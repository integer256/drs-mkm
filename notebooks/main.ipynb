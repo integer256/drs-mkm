{
 "cells": [
  {
   "cell_type": "markdown",
   "metadata": {},
   "source": [
    "# Import Data"
   ]
  },
  {
   "cell_type": "code",
   "execution_count": 1,
   "metadata": {},
   "outputs": [
    {
     "name": "stdout",
     "output_type": "stream",
     "text": [
      "(86868, 39)\n",
      "(260601, 2)\n",
      "(86868, 39)\n"
     ]
    }
   ],
   "source": [
    "import sys\n",
    "\n",
    "## Get the path dinamically to the src folder and add it to the path\n",
    "sys.path.append(\"../src\")\n",
    "\n",
    "import importer\n",
    "\n",
    "train_values, train_labels, test_values = importer.import_data(directory=\"../Data\")\n",
    "\n",
    "print(train_values.shape)\n",
    "print(train_labels.shape)\n",
    "print(test_values.shape)\n"
   ]
  },
  {
   "cell_type": "markdown",
   "metadata": {},
   "source": [
    "# Impute Data"
   ]
  },
  {
   "cell_type": "code",
   "execution_count": 2,
   "metadata": {},
   "outputs": [],
   "source": [
    "import imputator\n",
    "\n",
    "train_values, train_labels, test_values = imputator.impute_data(train_values, train_labels, test_values)"
   ]
  },
  {
   "cell_type": "markdown",
   "metadata": {},
   "source": [
    "# Encode Data"
   ]
  },
  {
   "cell_type": "code",
   "execution_count": 3,
   "metadata": {},
   "outputs": [],
   "source": [
    "import encoder\n",
    "\n",
    "train_values, train_labels, test_values = encoder.encode(train_values, train_labels, test_values)\n",
    "\n",
    "\n",
    "## Geo encoder\n",
    "\n",
    "# Train data Geo Values\n",
    "geo1 = encoder.dummy_encode(train_values[\"geo_level_1_id\"])\n",
    "geo2 = encoder.dummy_encode(train_values[\"geo_level_2_id\"])\n",
    "geo3 = encoder.dummy_encode(train_values[\"geo_level_3_id\"])"
   ]
  },
  {
   "cell_type": "markdown",
   "metadata": {},
   "source": [
    "# Create a model"
   ]
  },
  {
   "cell_type": "code",
   "execution_count": 4,
   "metadata": {},
   "outputs": [
    {
     "name": "stdout",
     "output_type": "stream",
     "text": [
      "Epoch 1/10\n"
     ]
    },
    {
     "name": "stderr",
     "output_type": "stream",
     "text": [
      "2023-10-05 16:17:49.953155: W tensorflow/tsl/platform/profile_utils/cpu_utils.cc:128] Failed to get CPU frequency: 0 Hz\n"
     ]
    },
    {
     "name": "stdout",
     "output_type": "stream",
     "text": [
      "2172/2172 [==============================] - 4s 2ms/step - loss: 0.2336 - dense_loss: 0.0670 - dense_1_loss: 0.1666 - val_loss: 0.1298 - val_dense_loss: 0.0062 - val_dense_1_loss: 0.1235\n",
      "Epoch 2/10\n",
      "2172/2172 [==============================] - 3s 1ms/step - loss: 0.1169 - dense_loss: 0.0058 - dense_1_loss: 0.1111 - val_loss: 0.0946 - val_dense_loss: 0.0056 - val_dense_1_loss: 0.0890\n",
      "Epoch 3/10\n",
      "2172/2172 [==============================] - 4s 2ms/step - loss: 0.0672 - dense_loss: 0.0053 - dense_1_loss: 0.0619 - val_loss: 0.0459 - val_dense_loss: 0.0050 - val_dense_1_loss: 0.0409\n",
      "Epoch 4/10\n",
      "2172/2172 [==============================] - 4s 2ms/step - loss: 0.0316 - dense_loss: 0.0047 - dense_1_loss: 0.0269 - val_loss: 0.0252 - val_dense_loss: 0.0044 - val_dense_1_loss: 0.0207\n",
      "Epoch 5/10\n",
      "2172/2172 [==============================] - 3s 1ms/step - loss: 0.0172 - dense_loss: 0.0042 - dense_1_loss: 0.0131 - val_loss: 0.0168 - val_dense_loss: 0.0040 - val_dense_1_loss: 0.0128\n",
      "Epoch 6/10\n",
      "2172/2172 [==============================] - 3s 1ms/step - loss: 0.0107 - dense_loss: 0.0038 - dense_1_loss: 0.0069 - val_loss: 0.0128 - val_dense_loss: 0.0036 - val_dense_1_loss: 0.0092\n",
      "Epoch 7/10\n",
      "2172/2172 [==============================] - 3s 1ms/step - loss: 0.0074 - dense_loss: 0.0035 - dense_1_loss: 0.0039 - val_loss: 0.0107 - val_dense_loss: 0.0034 - val_dense_1_loss: 0.0073\n",
      "Epoch 8/10\n",
      "2172/2172 [==============================] - 3s 1ms/step - loss: 0.0055 - dense_loss: 0.0032 - dense_1_loss: 0.0023 - val_loss: 0.0094 - val_dense_loss: 0.0031 - val_dense_1_loss: 0.0063\n",
      "Epoch 9/10\n",
      "2172/2172 [==============================] - 3s 2ms/step - loss: 0.0042 - dense_loss: 0.0029 - dense_1_loss: 0.0013 - val_loss: 0.0087 - val_dense_loss: 0.0028 - val_dense_1_loss: 0.0060\n",
      "Epoch 10/10\n",
      "2172/2172 [==============================] - 3s 2ms/step - loss: 0.0033 - dense_loss: 0.0025 - dense_1_loss: 7.5986e-04 - val_loss: 0.0086 - val_dense_loss: 0.0024 - val_dense_1_loss: 0.0062\n"
     ]
    }
   ],
   "source": [
    "import model\n",
    "\n",
    "model = model.neural_network(geo1.shape[1], geo2.shape[1], geo3.shape[1])\n",
    "\n",
    "model.fit(geo3, [geo2, geo1], epochs=10, batch_size=32, validation_split=0.2)\n",
    "model.save(\"model.h5\")"
   ]
  },
  {
   "cell_type": "markdown",
   "metadata": {},
   "source": [
    "# Evaluate the model"
   ]
  },
  {
   "cell_type": "code",
   "execution_count": 5,
   "metadata": {},
   "outputs": [
    {
     "name": "stdout",
     "output_type": "stream",
     "text": [
      "Model: \"model\"\n",
      "__________________________________________________________________________________________________\n",
      " Layer (type)                   Output Shape         Param #     Connected to                     \n",
      "==================================================================================================\n",
      " input_1 (InputLayer)           [(None, 10213)]      0           []                               \n",
      "                                                                                                  \n",
      " intermediate (Dense)           (None, 16)           163424      ['input_1[0][0]']                \n",
      "                                                                                                  \n",
      " dense (Dense)                  (None, 1364)         23188       ['intermediate[0][0]']           \n",
      "                                                                                                  \n",
      " dense_1 (Dense)                (None, 31)           527         ['intermediate[0][0]']           \n",
      "                                                                                                  \n",
      "==================================================================================================\n",
      "Total params: 187,139\n",
      "Trainable params: 187,139\n",
      "Non-trainable params: 0\n",
      "__________________________________________________________________________________________________\n",
      "None\n"
     ]
    }
   ],
   "source": [
    "import evaluator\n",
    "\n",
    "evaluator.print_model_summary(model)"
   ]
  },
  {
   "cell_type": "markdown",
   "metadata": {},
   "source": [
    "# Submit"
   ]
  },
  {
   "cell_type": "code",
   "execution_count": 6,
   "metadata": {},
   "outputs": [
    {
     "name": "stdout",
     "output_type": "stream",
     "text": [
      "Submission saved\n"
     ]
    }
   ],
   "source": [
    "import submiter\n",
    "\n",
    "submiter.submit(model, test_values)\n"
   ]
  }
 ],
 "metadata": {
  "kernelspec": {
   "display_name": "Python 3",
   "language": "python",
   "name": "python3"
  },
  "language_info": {
   "codemirror_mode": {
    "name": "ipython",
    "version": 3
   },
   "file_extension": ".py",
   "mimetype": "text/x-python",
   "name": "python",
   "nbconvert_exporter": "python",
   "pygments_lexer": "ipython3",
   "version": "3.12.0"
  },
  "orig_nbformat": 4
 },
 "nbformat": 4,
 "nbformat_minor": 2
}
